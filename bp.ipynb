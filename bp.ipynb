{
 "cells": [
  {
   "cell_type": "markdown",
   "metadata": {},
   "source": [
    "#### Two Layer Neural  Network \n",
    "\n",
    "##### Training"
   ]
  },
  {
   "cell_type": "code",
   "execution_count": 9,
   "metadata": {},
   "outputs": [
    {
     "name": "stdout",
     "output_type": "stream",
     "text": [
      "\n",
      " Output\n",
      "[[  1.52456337e-07]\n",
      " [  6.74991811e-03]\n",
      " [  9.93030237e-01]\n",
      " [  7.94584454e-03]\n",
      " [  9.94257349e-01]\n",
      " [  9.99971866e-01]\n",
      " [  9.94782188e-01]\n",
      " [  6.30124856e-03]]\n",
      "\n",
      " First layer of weights\n",
      "[[ 0.61420144  5.8434963  -3.58201618 -0.68090924]\n",
      " [-2.47356539 -2.79146742 -1.42153945 -1.59435907]\n",
      " [-1.68096508  6.34404401  0.44953563  4.30798633]]\n",
      "\n",
      " Second layer of weights\n",
      "[[-21.32945288]\n",
      " [  8.21954687]\n",
      " [-21.77496956]\n",
      " [  3.49207227]]\n"
     ]
    }
   ],
   "source": [
    "import numpy as np\n",
    "def nonlin(x,deriv=False):\n",
    "    if(deriv==True):\n",
    "        return x*(1-x)\n",
    " \n",
    "    return 1/(1+np.exp(-x))\n",
    "\n",
    "X = np.array([[0,0,0],\n",
    "              [0,0,1],\n",
    "              [0,1,1],\n",
    "              [0,1,0],\n",
    "              [1,1,0],\n",
    "              [1,1,1],\n",
    "              [1,0,1],\n",
    "              [1,0,0]\n",
    "              ])\n",
    " \n",
    "y = np.array([[0,0,1,0,1,1,1,0]]).T\n",
    " \n",
    "np.random.seed(1)\n",
    " \n",
    "# randomly initialize our weights with mean 0\n",
    "syn0 = 2*np.random.random((3,4)) - 1 #3 layer0 input nodes ,4 mid layer nodes,1 output nodes\n",
    "syn1 = 2*np.random.random((4,1)) - 1\n",
    " \n",
    "for j in xrange(60000):\n",
    " \n",
    "    # Feed forward through layers 0, 1, and 2\n",
    "    l0 = X\n",
    "    l1 = nonlin(np.dot(l0,syn0))\n",
    "    l2 = nonlin(np.dot(l1,syn1))\n",
    " \n",
    "    # how much did we miss the target value?\n",
    "    l2_error = y - l2\n",
    " \n",
    " \n",
    "    # in what direction is the target value?\n",
    "    # were we really sure? if so, don't change too much.\n",
    "    l2_delta = l2_error*nonlin(l2,deriv=True)\n",
    " \n",
    "    # how much did each l1 value contribute to the l2 error (according to the weights)?\n",
    "    l1_error = l2_delta.dot(syn1.T)\n",
    " \n",
    "    # in what direction is the target l1?\n",
    "    # were we really sure? if so, don't change too much.\n",
    "    l1_delta = l1_error * nonlin(l1,deriv=True)\n",
    " \n",
    "    syn1 += l1.T.dot(l2_delta)\n",
    "    syn0 += l0.T.dot(l1_delta)\n",
    "print('\\n Output')\n",
    "print(l2)\n",
    "print('\\n First layer of weights')\n",
    "print(syn0)\n",
    "print('\\n Second layer of weights')\n",
    "print(syn1)"
   ]
  },
  {
   "cell_type": "markdown",
   "metadata": {},
   "source": [
    "##### Test"
   ]
  },
  {
   "cell_type": "code",
   "execution_count": 10,
   "metadata": {},
   "outputs": [],
   "source": [
    "def vote(X,syn0,syn1):\n",
    "    l0= X\n",
    "    l1 = nonlin(np.dot(l0,syn0))\n",
    "    l2 = nonlin(np.dot(l1,syn1))\n",
    "    print(l2)"
   ]
  },
  {
   "cell_type": "code",
   "execution_count": 14,
   "metadata": {},
   "outputs": [
    {
     "name": "stdout",
     "output_type": "stream",
     "text": [
      "[[ 0.99478224]\n",
      " [ 0.99997187]\n",
      " [ 0.00630119]]\n"
     ]
    }
   ],
   "source": [
    "vote([[1,0,1],[1,1,1],[1,0,0]],syn0,syn1)"
   ]
  },
  {
   "cell_type": "code",
   "execution_count": null,
   "metadata": {},
   "outputs": [],
   "source": []
  }
 ],
 "metadata": {
  "kernelspec": {
   "display_name": "Python 3",
   "language": "python",
   "name": "python3"
  },
  "language_info": {
   "codemirror_mode": {
    "name": "ipython",
    "version": 2
   },
   "file_extension": ".py",
   "mimetype": "text/x-python",
   "name": "python",
   "nbconvert_exporter": "python",
   "pygments_lexer": "ipython2",
   "version": "2.7.12"
  }
 },
 "nbformat": 4,
 "nbformat_minor": 2
}
